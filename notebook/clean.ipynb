{
 "cells": [
  {
   "cell_type": "code",
   "execution_count": 2,
   "metadata": {},
   "outputs": [],
   "source": [
    "import pandas as pd \n",
    "\n",
    "output_file_1 = (\"Resources/cleaned_beer.csv\")\n",
    "output_file_2 = (\"Resources/cleaned_light_beer.csv\")\n",
    "breweries_csv = pd.read_csv(\"Resources/breweries.csv\")\n",
    "beers_csv = pd.read_csv(\"Resources/beers.csv\")\n",
    "merged_df = pd.merge(breweries_csv, beers_csv, on= \"brewery_id\")"
   ]
  },
  {
   "cell_type": "code",
   "execution_count": 12,
   "metadata": {},
   "outputs": [],
   "source": [
    "dropped_df = merged_df.dropna().drop(columns=[\"id\", \"Unnamed: 0\"], axis=2)\n",
    "cleaned_df = dropped_df.rename(index=str, columns = {\n",
    "    \"brewery_id\": \"Brewery ID\",\n",
    "    \"name_x\": \"Brewery\",\n",
    "    \"city\": \"City\",\n",
    "    \"state\": \"State\",\n",
    "    \"abv\": \"ABV\",\n",
    "    \"ibu\": \"IBU\",\n",
    "    \"name_y\": \"Beer\",\n",
    "    \"style\": \"Style\",\n",
    "    \"ounces\": \"OZ.\"\n",
    "})\n",
    "\n",
    "cleaned_df.to_csv(output_file_1)"
   ]
  },
  {
   "cell_type": "code",
   "execution_count": 15,
   "metadata": {
    "scrolled": true
   },
   "outputs": [],
   "source": [
    "top_styles = {\"Style\":[\"American IPA\",\n",
    "                       \"American Pale Ale (APA)\",\n",
    "                       \"American Amber / Red Ale\",\n",
    "                       \"American Double / Imperial IPA\",\n",
    "                       \"American Pale Wheat Ale\",\n",
    "                       \"American Blonde Ale\",\n",
    "                       \"American Porter\",\n",
    "                       \"American Brown Ale\",\n",
    "                        ]}\n",
    "completed_styles_df = pd.DataFrame(top_styles) \n",
    "styled_beer_df= pd.merge(completed_styles_df, cleaned_df, on=\"Style\")\n",
    "\n",
    "styled_beer_df.to_csv(output_file_2)"
   ]
  },
  {
   "cell_type": "code",
   "execution_count": null,
   "metadata": {},
   "outputs": [],
   "source": []
  }
 ],
 "metadata": {
  "kernelspec": {
   "display_name": "Python 3",
   "language": "python",
   "name": "python3"
  },
  "language_info": {
   "codemirror_mode": {
    "name": "ipython",
    "version": 3
   },
   "file_extension": ".py",
   "mimetype": "text/x-python",
   "name": "python",
   "nbconvert_exporter": "python",
   "pygments_lexer": "ipython3",
   "version": "3.6.6"
  }
 },
 "nbformat": 4,
 "nbformat_minor": 2
}
